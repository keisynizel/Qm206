{
 "cells": [
  {
   "cell_type": "code",
   "execution_count": 1,
   "metadata": {},
   "outputs": [],
   "source": [
    "import numpy as np"
   ]
  },
  {
   "cell_type": "code",
   "execution_count": 42,
   "metadata": {},
   "outputs": [],
   "source": [
    "class estadistica:\n",
    "    def __init__(self,x):\n",
    "        self.x=x\n",
    "    def promedio(self):\n",
    "        n=len(self.x)\n",
    "        promedio=sum(self.x)/n\n",
    "        return promedio\n",
    "    def varianza(self):\n",
    "        n=len(self.x)\n",
    "        sigma2=sum((self.x-promedio(self.x))*(self.x-promedio(self.x)))/(n-1)\n",
    "        return sigma2\n",
    "    def minimo(self):\n",
    "        minx=9E99\n",
    "        for a in self.x:\n",
    "            if a <minx:\n",
    "                minx=a\n",
    "        return minx\n",
    "    def maximo(self):\n",
    "        max_x=-9E99\n",
    "        for a in self.x:\n",
    "            if a >max_x:\n",
    "                max_x=a\n",
    "        return max_x"
   ]
  },
  {
   "cell_type": "code",
   "execution_count": 43,
   "metadata": {},
   "outputs": [],
   "source": [
    "def promedio(x):\n",
    "    n=len(x)\n",
    "    promedio=sum(x)/n\n",
    "    return promedio\n",
    "def varianza(x):\n",
    "    n=len(x)\n",
    "    sigma2=sum((x-promedio(x))*(x-promedio(x)))/(n-1)\n",
    "    return sigma2\n",
    "def minimo(x):\n",
    "    minx=9E99\n",
    "    for a in x:\n",
    "        if a <minx:\n",
    "            minx=a\n",
    "    return minx\n",
    "def maximo(x):\n",
    "    max_x=-9E99\n",
    "    for a in x:\n",
    "        if a >max_x:\n",
    "            max_x=a\n",
    "    return max_x"
   ]
  },
  {
   "cell_type": "code",
   "execution_count": 3,
   "metadata": {},
   "outputs": [
    {
     "data": {
      "text/plain": [
       "4.428571428571429"
      ]
     },
     "execution_count": 3,
     "metadata": {},
     "output_type": "execute_result"
    }
   ],
   "source": [
    "x=np.array([3,5,6,1,6,7,3])\n",
    "promedio(x)"
   ]
  },
  {
   "cell_type": "code",
   "execution_count": 7,
   "metadata": {},
   "outputs": [
    {
     "name": "stdout",
     "output_type": "stream",
     "text": [
      "Promedio=-0.2929\n",
      "Varianza=1.0417\n"
     ]
    }
   ],
   "source": [
    "x=np.random.randn(100)\n",
    "print(\"Promedio=%3.4f\"%promedio(x))\n",
    "print(\"Varianza=%3.4f\"%varianza(x))"
   ]
  },
  {
   "cell_type": "code",
   "execution_count": 11,
   "metadata": {},
   "outputs": [
    {
     "name": "stdout",
     "output_type": "stream",
     "text": [
      "Mínimo=1.0000\n",
      "Máximo=7.0000\n"
     ]
    }
   ],
   "source": [
    "x=np.array([3,5,6,1,6,7,3])\n",
    "print(\"Mínimo=%3.4f\"%minimo(x))\n",
    "print(\"Máximo=%3.4f\"%maximo(x))"
   ]
  },
  {
   "cell_type": "code",
   "execution_count": 44,
   "metadata": {},
   "outputs": [],
   "source": [
    "x=np.array([3,5,6,1,6,7,3])\n",
    "st=estadistica(x)"
   ]
  },
  {
   "cell_type": "code",
   "execution_count": 45,
   "metadata": {},
   "outputs": [
    {
     "data": {
      "text/plain": [
       "4.428571428571429"
      ]
     },
     "execution_count": 45,
     "metadata": {},
     "output_type": "execute_result"
    }
   ],
   "source": [
    "st.promedio()"
   ]
  },
  {
   "cell_type": "code",
   "execution_count": 46,
   "metadata": {},
   "outputs": [
    {
     "data": {
      "text/plain": [
       "4.6190476190476195"
      ]
     },
     "execution_count": 46,
     "metadata": {},
     "output_type": "execute_result"
    }
   ],
   "source": [
    "st.varianza()"
   ]
  },
  {
   "cell_type": "code",
   "execution_count": 47,
   "metadata": {},
   "outputs": [
    {
     "data": {
      "text/plain": [
       "1"
      ]
     },
     "execution_count": 47,
     "metadata": {},
     "output_type": "execute_result"
    }
   ],
   "source": [
    "st.minimo()"
   ]
  },
  {
   "cell_type": "code",
   "execution_count": 48,
   "metadata": {},
   "outputs": [
    {
     "data": {
      "text/plain": [
       "7"
      ]
     },
     "execution_count": 48,
     "metadata": {},
     "output_type": "execute_result"
    }
   ],
   "source": [
    "st.maximo()"
   ]
  },
  {
   "cell_type": "code",
   "execution_count": null,
   "metadata": {},
   "outputs": [],
   "source": []
  }
 ],
 "metadata": {
  "kernelspec": {
   "display_name": "Python 3",
   "language": "python",
   "name": "python3"
  },
  "language_info": {
   "codemirror_mode": {
    "name": "ipython",
    "version": 3
   },
   "file_extension": ".py",
   "mimetype": "text/x-python",
   "name": "python",
   "nbconvert_exporter": "python",
   "pygments_lexer": "ipython3",
   "version": "3.6.5"
  }
 },
 "nbformat": 4,
 "nbformat_minor": 2
}
