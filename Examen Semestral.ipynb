{
 "cells": [
  {
   "cell_type": "markdown",
   "metadata": {},
   "source": [
    "## Examen Semestral                       2018\n",
    "Nombre: Keisy Martínez\n",
    "Cédula:4-801-1762"
   ]
  },
  {
   "cell_type": "code",
   "execution_count": 1,
   "metadata": {},
   "outputs": [],
   "source": [
    "import numpy as np\n",
    "import matplotlib.pyplot as plt\n",
    "import pandas as pd"
   ]
  },
  {
   "cell_type": "markdown",
   "metadata": {},
   "source": [
    "1. Diseñe un programa que genere 5 puntos en el plano (x,y), determine cuál de los 4 últimos puntos es el más cercano al primero. Un punto se representará con dos variables (x,y): la distancia entre dos puntos viene dada por:\n",
    "$ d=\\sqrt{(x_1 - x_2)^2 + (y_1 -y_2)^2} $"
   ]
  },
  {
   "cell_type": "code",
   "execution_count": 2,
   "metadata": {},
   "outputs": [
    {
     "name": "stdout",
     "output_type": "stream",
     "text": [
      "[0.45390798 0.51578372 0.59117825 0.29128683 0.33729861]\n",
      "[0.16312646 0.60518765 0.42384328 0.60844612 0.98592021]\n"
     ]
    },
    {
     "data": {
      "image/png": "[encoded data removed]",
      "text/plain": [
       "<Figure size 432x288 with 1 Axes>"
      ]
     },
     "metadata": {
      "needs_background": "light"
     },
     "output_type": "display_data"
    }
   ],
   "source": [
    "x=np.random.rand(5)\n",
    "y=np.random.rand(5)\n",
    "print(x)\n",
    "print(y)\n",
    "plt.plot(x,y,\".\",color=\"darkviolet\",markersize=30)\n",
    "plt.show()"
   ]
  },
  {
   "cell_type": "code",
   "execution_count": 3,
   "metadata": {},
   "outputs": [
    {
     "data": {
      "text/plain": [
       "array([0.        , 0.44637058, 0.29464621, 0.47408357, 0.83101582])"
      ]
     },
     "execution_count": 3,
     "metadata": {},
     "output_type": "execute_result"
    }
   ],
   "source": [
    "d=np.sqrt((x[0]- x)**2 + (y[0] - y)**2)\n",
    "d"
   ]
  },
  {
   "cell_type": "code",
   "execution_count": 16,
   "metadata": {},
   "outputs": [
    {
     "data": {
      "text/html": [
       "<div>\n",
       "<style scoped>\n",
       "    .dataframe tbody tr th:only-of-type {\n",
       "        vertical-align: middle;\n",
       "    }\n",
       "\n",
       "    .dataframe tbody tr th {\n",
       "        vertical-align: top;\n",
       "    }\n",
       "\n",
       "    .dataframe thead th {\n",
       "        text-align: right;\n",
       "    }\n",
       "</style>\n",
       "<table border=\"1\" class=\"dataframe\">\n",
       "  <thead>\n",
       "    <tr style=\"text-align: right;\">\n",
       "      <th></th>\n",
       "      <th>x</th>\n",
       "      <th>y</th>\n",
       "      <th>d</th>\n",
       "    </tr>\n",
       "  </thead>\n",
       "  <tbody>\n",
       "    <tr>\n",
       "      <th>0</th>\n",
       "      <td>0.453908</td>\n",
       "      <td>0.163126</td>\n",
       "      <td>NaN</td>\n",
       "    </tr>\n",
       "    <tr>\n",
       "      <th>1</th>\n",
       "      <td>0.515784</td>\n",
       "      <td>0.605188</td>\n",
       "      <td>0.446371</td>\n",
       "    </tr>\n",
       "    <tr>\n",
       "      <th>2</th>\n",
       "      <td>0.591178</td>\n",
       "      <td>0.423843</td>\n",
       "      <td>0.294646</td>\n",
       "    </tr>\n",
       "    <tr>\n",
       "      <th>3</th>\n",
       "      <td>0.291287</td>\n",
       "      <td>0.608446</td>\n",
       "      <td>0.474084</td>\n",
       "    </tr>\n",
       "    <tr>\n",
       "      <th>4</th>\n",
       "      <td>0.337299</td>\n",
       "      <td>0.985920</td>\n",
       "      <td>0.831016</td>\n",
       "    </tr>\n",
       "  </tbody>\n",
       "</table>\n",
       "</div>"
      ],
      "text/plain": [
       "          x         y         d\n",
       "0  0.453908  0.163126       NaN\n",
       "1  0.515784  0.605188  0.446371\n",
       "2  0.591178  0.423843  0.294646\n",
       "3  0.291287  0.608446  0.474084\n",
       "4  0.337299  0.985920  0.831016"
      ]
     },
     "execution_count": 16,
     "metadata": {},
     "output_type": "execute_result"
    }
   ],
   "source": [
    "distancia={'x': [0.45390798, 0.51578372, 0.59117825, 0.29128683, 0.33729861],\n",
    "'y': [0.16312646, 0.60518765, 0.42384328, 0.60844612, 0.98592021]\n",
    ",'d':[None , 0.44637058, 0.29464621, 0.47408357, 0.83101582]}\n",
    "frame=pd.DataFrame(distancia)\n",
    "frame"
   ]
  },
  {
   "cell_type": "code",
   "execution_count": 17,
   "metadata": {},
   "outputs": [
    {
     "name": "stdout",
     "output_type": "stream",
     "text": [
      "0.0\n"
     ]
    }
   ],
   "source": [
    "d_minimo=np.min(d)       \n",
    "print(d_minimo)"
   ]
  },
  {
   "cell_type": "markdown",
   "metadata": {},
   "source": [
    "2. Implementa un programa que muestre en pantalla todos los números potencia de 2 entre $ 2^0 $ y $ 2^30 $, ambos inclusive."
   ]
  },
  {
   "cell_type": "code",
   "execution_count": 30,
   "metadata": {},
   "outputs": [
    {
     "name": "stdout",
     "output_type": "stream",
     "text": [
      "[ 0  1  2  3  4  5  6  7  8  9 10 11 12 13 14 15 16 17 18 19 20 21 22 23\n",
      " 24 25 26 27 28 29 30] [         1          2          4          8         16         32\n",
      "         64        128        256        512       1024       2048\n",
      "       4096       8192      16384      32768      65536     131072\n",
      "     262144     524288    1048576    2097152    4194304    8388608\n",
      "   16777216   33554432   67108864  134217728  268435456  536870912\n",
      " 1073741824]\n"
     ]
    }
   ],
   "source": [
    "n=np.arange(0,31)\n",
    "2**n\n",
    "print(n,2**n)"
   ]
  },
  {
   "cell_type": "markdown",
   "metadata": {},
   "source": [
    "3. Diseña un programa que calcule la sumatoria m y n . Dado dos números enteros m y n con $ m>n $."
   ]
  },
  {
   "cell_type": "code",
   "execution_count": 33,
   "metadata": {},
   "outputs": [
    {
     "name": "stdout",
     "output_type": "stream",
     "text": [
      "16\n"
     ]
    }
   ],
   "source": [
    "n=5\n",
    "m=11\n",
    "sumatoria=np.sum(n+m)\n",
    "print(sumatoria)"
   ]
  },
  {
   "cell_type": "markdown",
   "metadata": {},
   "source": [
    "4. Haz un programa que dado los valores dados a=3 b=2 y c=1, muestre la función:\n",
    "$ f(x)=ax^2 + bx + c $\n",
    "En el intervalo $ [Z_1, Z_2] $, donde $ Z_1 $ y $ Z_2 $ son valores proporcionados por el usuario. El programa debe calcular el valor máximo y mínimo de $ f(x) $ en el intervalo indicado."
   ]
  },
  {
   "cell_type": "code",
   "execution_count": 37,
   "metadata": {},
   "outputs": [
    {
     "ename": "SyntaxError",
     "evalue": "can't assign to function call (<ipython-input-37-b50146b7e73b>, line 6)",
     "output_type": "error",
     "traceback": [
      "\u001b[0;36m  File \u001b[0;32m\"<ipython-input-37-b50146b7e73b>\"\u001b[0;36m, line \u001b[0;32m6\u001b[0m\n\u001b[0;31m    f(x)=(ax**2)+bx+c\u001b[0m\n\u001b[0m                     ^\u001b[0m\n\u001b[0;31mSyntaxError\u001b[0m\u001b[0;31m:\u001b[0m can't assign to function call\n"
     ]
    }
   ],
   "source": [
    "a=3\n",
    "b=2\n",
    "c=1\n",
    "Z1=3\n",
    "Z2=4\n",
    "f(x)=(ax**2)+bx+c\n",
    "\n",
    "plt.plot(f(x))\n",
    "plt.show()"
   ]
  },
  {
   "cell_type": "code",
   "execution_count": null,
   "metadata": {},
   "outputs": [],
   "source": []
  }
 ],
 "metadata": {
  "kernelspec": {
   "display_name": "Python 3",
   "language": "python",
   "name": "python3"
  },
  "language_info": {
   "codemirror_mode": {
    "name": "ipython",
    "version": 3
   },
   "file_extension": ".py",
   "mimetype": "text/x-python",
   "name": "python",
   "nbconvert_exporter": "python",
   "pygments_lexer": "ipython3",
   "version": "3.6.6"
  }
 },
 "nbformat": 4,
 "nbformat_minor": 2
}
